{
 "cells": [
  {
   "cell_type": "code",
   "execution_count": 1,
   "metadata": {},
   "outputs": [],
   "source": [
    "import shutil\n",
    "from pathlib import Path\n",
    "\n",
    "import matplotlib.pyplot as plt\n",
    "import numpy as np\n",
    "import pandas as pd\n",
    "import tifffile\n",
    "from joblib import Parallel, delayed\n",
    "from tqdm.notebook import tqdm"
   ]
  },
  {
   "cell_type": "code",
   "execution_count": 37,
   "metadata": {},
   "outputs": [
    {
     "data": {
      "text/html": [
       "<div>\n",
       "<style scoped>\n",
       "    .dataframe tbody tr th:only-of-type {\n",
       "        vertical-align: middle;\n",
       "    }\n",
       "\n",
       "    .dataframe tbody tr th {\n",
       "        vertical-align: top;\n",
       "    }\n",
       "\n",
       "    .dataframe thead th {\n",
       "        text-align: right;\n",
       "    }\n",
       "</style>\n",
       "<table border=\"1\" class=\"dataframe\">\n",
       "  <thead>\n",
       "    <tr style=\"text-align: right;\">\n",
       "      <th></th>\n",
       "      <th>Time</th>\n",
       "      <th>Point</th>\n",
       "      <th>raw</th>\n",
       "    </tr>\n",
       "  </thead>\n",
       "  <tbody>\n",
       "    <tr>\n",
       "      <th>0</th>\n",
       "      <td>0</td>\n",
       "      <td>0</td>\n",
       "      <td>/mnt/towbin.data/shared/smarin/data/2024_02_07...</td>\n",
       "    </tr>\n",
       "    <tr>\n",
       "      <th>1</th>\n",
       "      <td>1</td>\n",
       "      <td>0</td>\n",
       "      <td>/mnt/towbin.data/shared/smarin/data/2024_02_07...</td>\n",
       "    </tr>\n",
       "    <tr>\n",
       "      <th>2</th>\n",
       "      <td>2</td>\n",
       "      <td>0</td>\n",
       "      <td>/mnt/towbin.data/shared/smarin/data/2024_02_07...</td>\n",
       "    </tr>\n",
       "    <tr>\n",
       "      <th>3</th>\n",
       "      <td>3</td>\n",
       "      <td>0</td>\n",
       "      <td>/mnt/towbin.data/shared/smarin/data/2024_02_07...</td>\n",
       "    </tr>\n",
       "    <tr>\n",
       "      <th>4</th>\n",
       "      <td>4</td>\n",
       "      <td>0</td>\n",
       "      <td>/mnt/towbin.data/shared/smarin/data/2024_02_07...</td>\n",
       "    </tr>\n",
       "  </tbody>\n",
       "</table>\n",
       "</div>"
      ],
      "text/plain": [
       "   Time  Point                                                raw\n",
       "0     0      0  /mnt/towbin.data/shared/smarin/data/2024_02_07...\n",
       "1     1      0  /mnt/towbin.data/shared/smarin/data/2024_02_07...\n",
       "2     2      0  /mnt/towbin.data/shared/smarin/data/2024_02_07...\n",
       "3     3      0  /mnt/towbin.data/shared/smarin/data/2024_02_07...\n",
       "4     4      0  /mnt/towbin.data/shared/smarin/data/2024_02_07..."
      ]
     },
     "execution_count": 37,
     "metadata": {},
     "output_type": "execute_result"
    }
   ],
   "source": [
    "EXP = Path(\"/mnt/towbin.data/shared/smarin/data/2024_02_07_lifespan_wBT318_20C\")\n",
    "raw_filemap = pd.read_csv(EXP / \"analysis\" / \"report\" / \"analysis_filemap.csv\")\n",
    "raw_filemap = raw_filemap[\"Time Point raw\".split()]\n",
    "raw_filemap.head()"
   ]
  },
  {
   "cell_type": "code",
   "execution_count": 38,
   "metadata": {},
   "outputs": [],
   "source": [
    "pick_n = 500"
   ]
  },
  {
   "cell_type": "code",
   "execution_count": 39,
   "metadata": {},
   "outputs": [],
   "source": [
    "filemap_sample = raw_filemap.sample(pick_n, random_state=42)"
   ]
  },
  {
   "cell_type": "code",
   "execution_count": 40,
   "metadata": {},
   "outputs": [],
   "source": [
    "def process_file(input_file, output_file, channel):\n",
    "    img = tifffile.imread(input_file, key=channel)\n",
    "    tifffile.imwrite(output_file, img)"
   ]
  },
  {
   "cell_type": "code",
   "execution_count": 41,
   "metadata": {},
   "outputs": [
    {
     "data": {
      "text/plain": [
       "PosixPath('/mnt/towbin.data/personal/bgusev/peter_work/egg_count/xgboost_training')"
      ]
     },
     "execution_count": 41,
     "metadata": {},
     "output_type": "execute_result"
    }
   ],
   "source": [
    "Path().cwd()"
   ]
  },
  {
   "cell_type": "code",
   "execution_count": 42,
   "metadata": {},
   "outputs": [],
   "source": [
    "TRAINING_DATA = Path(\"training_data\")\n",
    "\n",
    "TRAINING_DATA_IMAGES = TRAINING_DATA / \"training_images\"\n",
    "TRAINING_DATA_IMAGES.mkdir(parents=True, exist_ok=True)\n",
    "\n",
    "MANUAL_SEG_IMAGES = TRAINING_DATA / \"manual_seg\"\n",
    "MANUAL_SEG_IMAGES.mkdir(parents=True, exist_ok=True)\n",
    "\n",
    "_RAW_IMAGES = TRAINING_DATA / \"_raw\"\n",
    "_RAW_IMAGES.mkdir(parents=True, exist_ok=True)"
   ]
  },
  {
   "cell_type": "code",
   "execution_count": 43,
   "metadata": {},
   "outputs": [],
   "source": [
    "input_files = list(filemap_sample[\"raw\"])\n",
    "output_files = [(TRAINING_DATA_IMAGES / Path(f).name).resolve() for f in input_files]"
   ]
  },
  {
   "cell_type": "code",
   "execution_count": 44,
   "metadata": {},
   "outputs": [
    {
     "data": {
      "application/vnd.jupyter.widget-view+json": {
       "model_id": "af335c0c8e384155a27419618a4902fd",
       "version_major": 2,
       "version_minor": 0
      },
      "text/plain": [
       "  0%|          | 0/500 [00:00<?, ?it/s]"
      ]
     },
     "metadata": {},
     "output_type": "display_data"
    },
    {
     "name": "stdout",
     "output_type": "stream",
     "text": [
      "done\n"
     ]
    }
   ],
   "source": [
    "CHANNEL = 1\n",
    "Parallel()(\n",
    "    delayed(process_file)(input_file, output_file, CHANNEL)\n",
    "    for input_file, output_file in tqdm(\n",
    "        zip(input_files, output_files), total=len(input_files)\n",
    "    )\n",
    ")\n",
    "print(\"done\")"
   ]
  },
  {
   "cell_type": "code",
   "execution_count": 45,
   "metadata": {},
   "outputs": [
    {
     "data": {
      "text/plain": [
       "PosixPath('/mnt/towbin.data/personal/bgusev/peter_work/egg_count/xgboost_training/training_data/_raw/Time00178_Point0017_470nm,565nm,BF_Seq37552.ome.tiff')"
      ]
     },
     "execution_count": 45,
     "metadata": {},
     "output_type": "execute_result"
    }
   ],
   "source": [
    "_raw_output_files = [(_RAW_IMAGES / Path(f).name).resolve() for f in input_files]\n",
    "_raw_output_files[-1]"
   ]
  },
  {
   "cell_type": "code",
   "execution_count": 46,
   "metadata": {},
   "outputs": [
    {
     "data": {
      "application/vnd.jupyter.widget-view+json": {
       "model_id": "42d68b4c94594a6cb31a1f5969157b72",
       "version_major": 2,
       "version_minor": 0
      },
      "text/plain": [
       "  0%|          | 0/500 [00:00<?, ?it/s]"
      ]
     },
     "metadata": {},
     "output_type": "display_data"
    },
    {
     "name": "stdout",
     "output_type": "stream",
     "text": [
      "done\n"
     ]
    }
   ],
   "source": [
    "Parallel()(\n",
    "    delayed(shutil.copy)(input_file, output_file)\n",
    "    for input_file, output_file in tqdm(\n",
    "        zip(input_files, _raw_output_files), total=len(input_files)\n",
    "    )\n",
    ")\n",
    "print(\"done\")"
   ]
  },
  {
   "cell_type": "code",
   "execution_count": 47,
   "metadata": {},
   "outputs": [],
   "source": [
    "filemap_sample[\"training_image\"] = pd.Series(\n",
    "    output_files, dtype=str, index=filemap_sample.index\n",
    ")\n",
    "filemap_sample[\"_raw_local\"] = pd.Series(\n",
    "    _raw_output_files, dtype=str, index=filemap_sample.index\n",
    ")\n",
    "\n",
    "# These don't exist yet, but will after finishing the manual segmentation\n",
    "filemap_sample[\"manual_seg\"] = pd.Series(\n",
    "    [(MANUAL_SEG_IMAGES / Path(f).name).resolve() for f in input_files],\n",
    "    dtype=str,\n",
    "    index=filemap_sample.index,\n",
    ")"
   ]
  },
  {
   "cell_type": "code",
   "execution_count": 53,
   "metadata": {},
   "outputs": [
    {
     "data": {
      "text/html": [
       "<div>\n",
       "<style scoped>\n",
       "    .dataframe tbody tr th:only-of-type {\n",
       "        vertical-align: middle;\n",
       "    }\n",
       "\n",
       "    .dataframe tbody tr th {\n",
       "        vertical-align: top;\n",
       "    }\n",
       "\n",
       "    .dataframe thead th {\n",
       "        text-align: right;\n",
       "    }\n",
       "</style>\n",
       "<table border=\"1\" class=\"dataframe\">\n",
       "  <thead>\n",
       "    <tr style=\"text-align: right;\">\n",
       "      <th></th>\n",
       "      <th>Time</th>\n",
       "      <th>Point</th>\n",
       "      <th>raw</th>\n",
       "      <th>training_image</th>\n",
       "      <th>_raw_local</th>\n",
       "      <th>manual_seg</th>\n",
       "    </tr>\n",
       "  </thead>\n",
       "  <tbody>\n",
       "    <tr>\n",
       "      <th>21171</th>\n",
       "      <td>143</td>\n",
       "      <td>22</td>\n",
       "      <td>/mnt/towbin.data/shared/smarin/data/2024_02_07...</td>\n",
       "      <td>/mnt/towbin.data/personal/bgusev/peter_work/eg...</td>\n",
       "      <td>/mnt/towbin.data/personal/bgusev/peter_work/eg...</td>\n",
       "      <td>/mnt/towbin.data/personal/bgusev/peter_work/eg...</td>\n",
       "    </tr>\n",
       "    <tr>\n",
       "      <th>29897</th>\n",
       "      <td>265</td>\n",
       "      <td>31</td>\n",
       "      <td>/mnt/towbin.data/shared/smarin/data/2024_02_07...</td>\n",
       "      <td>/mnt/towbin.data/personal/bgusev/peter_work/eg...</td>\n",
       "      <td>/mnt/towbin.data/personal/bgusev/peter_work/eg...</td>\n",
       "      <td>/mnt/towbin.data/personal/bgusev/peter_work/eg...</td>\n",
       "    </tr>\n",
       "    <tr>\n",
       "      <th>2574</th>\n",
       "      <td>666</td>\n",
       "      <td>2</td>\n",
       "      <td>/mnt/towbin.data/shared/smarin/data/2024_02_07...</td>\n",
       "      <td>/mnt/towbin.data/personal/bgusev/peter_work/eg...</td>\n",
       "      <td>/mnt/towbin.data/personal/bgusev/peter_work/eg...</td>\n",
       "      <td>/mnt/towbin.data/personal/bgusev/peter_work/eg...</td>\n",
       "    </tr>\n",
       "    <tr>\n",
       "      <th>36861</th>\n",
       "      <td>537</td>\n",
       "      <td>38</td>\n",
       "      <td>/mnt/towbin.data/shared/smarin/data/2024_02_07...</td>\n",
       "      <td>/mnt/towbin.data/personal/bgusev/peter_work/eg...</td>\n",
       "      <td>/mnt/towbin.data/personal/bgusev/peter_work/eg...</td>\n",
       "      <td>/mnt/towbin.data/personal/bgusev/peter_work/eg...</td>\n",
       "    </tr>\n",
       "    <tr>\n",
       "      <th>27774</th>\n",
       "      <td>54</td>\n",
       "      <td>29</td>\n",
       "      <td>/mnt/towbin.data/shared/smarin/data/2024_02_07...</td>\n",
       "      <td>/mnt/towbin.data/personal/bgusev/peter_work/eg...</td>\n",
       "      <td>/mnt/towbin.data/personal/bgusev/peter_work/eg...</td>\n",
       "      <td>/mnt/towbin.data/personal/bgusev/peter_work/eg...</td>\n",
       "    </tr>\n",
       "  </tbody>\n",
       "</table>\n",
       "</div>"
      ],
      "text/plain": [
       "       Time  Point                                                raw  \\\n",
       "21171   143     22  /mnt/towbin.data/shared/smarin/data/2024_02_07...   \n",
       "29897   265     31  /mnt/towbin.data/shared/smarin/data/2024_02_07...   \n",
       "2574    666      2  /mnt/towbin.data/shared/smarin/data/2024_02_07...   \n",
       "36861   537     38  /mnt/towbin.data/shared/smarin/data/2024_02_07...   \n",
       "27774    54     29  /mnt/towbin.data/shared/smarin/data/2024_02_07...   \n",
       "\n",
       "                                          training_image  \\\n",
       "21171  /mnt/towbin.data/personal/bgusev/peter_work/eg...   \n",
       "29897  /mnt/towbin.data/personal/bgusev/peter_work/eg...   \n",
       "2574   /mnt/towbin.data/personal/bgusev/peter_work/eg...   \n",
       "36861  /mnt/towbin.data/personal/bgusev/peter_work/eg...   \n",
       "27774  /mnt/towbin.data/personal/bgusev/peter_work/eg...   \n",
       "\n",
       "                                              _raw_local  \\\n",
       "21171  /mnt/towbin.data/personal/bgusev/peter_work/eg...   \n",
       "29897  /mnt/towbin.data/personal/bgusev/peter_work/eg...   \n",
       "2574   /mnt/towbin.data/personal/bgusev/peter_work/eg...   \n",
       "36861  /mnt/towbin.data/personal/bgusev/peter_work/eg...   \n",
       "27774  /mnt/towbin.data/personal/bgusev/peter_work/eg...   \n",
       "\n",
       "                                              manual_seg  \n",
       "21171  /mnt/towbin.data/personal/bgusev/peter_work/eg...  \n",
       "29897  /mnt/towbin.data/personal/bgusev/peter_work/eg...  \n",
       "2574   /mnt/towbin.data/personal/bgusev/peter_work/eg...  \n",
       "36861  /mnt/towbin.data/personal/bgusev/peter_work/eg...  \n",
       "27774  /mnt/towbin.data/personal/bgusev/peter_work/eg...  "
      ]
     },
     "execution_count": 53,
     "metadata": {},
     "output_type": "execute_result"
    }
   ],
   "source": [
    "filemap_sample.head()"
   ]
  },
  {
   "cell_type": "code",
   "execution_count": 50,
   "metadata": {},
   "outputs": [
    {
     "data": {
      "text/plain": [
       "500"
      ]
     },
     "execution_count": 50,
     "metadata": {},
     "output_type": "execute_result"
    }
   ],
   "source": [
    "len(filemap_sample)"
   ]
  },
  {
   "cell_type": "code",
   "execution_count": 52,
   "metadata": {},
   "outputs": [
    {
     "data": {
      "text/plain": [
       "Time              False\n",
       "Point             False\n",
       "raw               False\n",
       "training_image    False\n",
       "_raw_local        False\n",
       "manual_seg        False\n",
       "dtype: bool"
      ]
     },
     "execution_count": 52,
     "metadata": {},
     "output_type": "execute_result"
    }
   ],
   "source": [
    "filemap_sample.isna().any()"
   ]
  },
  {
   "cell_type": "code",
   "execution_count": 56,
   "metadata": {},
   "outputs": [
    {
     "data": {
      "text/plain": [
       "('/mnt/towbin.data/personal/bgusev/peter_work/egg_count/xgboost_training/training_data/manual_seg/Time00178_Point0017_470nm,565nm,BF_Seq37552.ome.tiff',\n",
       " '/mnt/towbin.data/personal/bgusev/peter_work/egg_count/xgboost_training/training_data/training_images/Time00178_Point0017_470nm,565nm,BF_Seq37552.ome.tiff',\n",
       " '/mnt/towbin.data/personal/bgusev/peter_work/egg_count/xgboost_training/training_data/_raw/Time00178_Point0017_470nm,565nm,BF_Seq37552.ome.tiff',\n",
       " '/mnt/towbin.data/shared/smarin/data/2024_02_07_lifespan_wBT318_20C/raw/Time00178_Point0017_470nm,565nm,BF_Seq37552.ome.tiff')"
      ]
     },
     "execution_count": 56,
     "metadata": {},
     "output_type": "execute_result"
    }
   ],
   "source": [
    "(\n",
    "    filemap_sample.iloc[-1][\"manual_seg\"],\n",
    "    filemap_sample.iloc[-1][\"training_image\"],\n",
    "    filemap_sample.iloc[-1][\"_raw_local\"],\n",
    "    filemap_sample.iloc[-1][\"raw\"],\n",
    ")"
   ]
  },
  {
   "cell_type": "code",
   "execution_count": 54,
   "metadata": {},
   "outputs": [],
   "source": [
    "filemap_sample.to_csv(TRAINING_DATA / \"filemap.csv\", index=False)"
   ]
  },
  {
   "cell_type": "code",
   "execution_count": 1,
   "metadata": {},
   "outputs": [
    {
     "ename": "ValueError",
     "evalue": "STOP HERE",
     "output_type": "error",
     "traceback": [
      "\u001b[0;31m---------------------------------------------------------------------------\u001b[0m",
      "\u001b[0;31mValueError\u001b[0m                                Traceback (most recent call last)",
      "Cell \u001b[0;32mIn[1], line 1\u001b[0m\n\u001b[0;32m----> 1\u001b[0m \u001b[38;5;28;01mraise\u001b[39;00m \u001b[38;5;167;01mValueError\u001b[39;00m(\u001b[38;5;124m\"\u001b[39m\u001b[38;5;124mSTOP HERE\u001b[39m\u001b[38;5;124m\"\u001b[39m)\n",
      "\u001b[0;31mValueError\u001b[0m: STOP HERE"
     ]
    }
   ],
   "source": [
    "# to stop execution if jupyter's \"Run All\" was pressed\n",
    "raise ValueError(\"STOP HERE\")"
   ]
  },
  {
   "cell_type": "code",
   "execution_count": 2,
   "metadata": {},
   "outputs": [],
   "source": [
    "# the following code is just to merge two filemaps since I manually annotated twice (100 + 500 images)"
   ]
  },
  {
   "cell_type": "code",
   "execution_count": 2,
   "metadata": {},
   "outputs": [],
   "source": [
    "fmap1 = pd.read_csv(\n",
    "    \"/home/bgusev/new_personal/peter_work/egg_count/annot_training/filemap.csv\"\n",
    ")\n",
    "fmap2 = pd.read_csv(\n",
    "    \"/home/bgusev/new_personal/peter_work/egg_count/xgboost_training/training_data/filemap.csv\"\n",
    ")"
   ]
  },
  {
   "cell_type": "code",
   "execution_count": 3,
   "metadata": {},
   "outputs": [
    {
     "data": {
      "text/html": [
       "<div>\n",
       "<style scoped>\n",
       "    .dataframe tbody tr th:only-of-type {\n",
       "        vertical-align: middle;\n",
       "    }\n",
       "\n",
       "    .dataframe tbody tr th {\n",
       "        vertical-align: top;\n",
       "    }\n",
       "\n",
       "    .dataframe thead th {\n",
       "        text-align: right;\n",
       "    }\n",
       "</style>\n",
       "<table border=\"1\" class=\"dataframe\">\n",
       "  <thead>\n",
       "    <tr style=\"text-align: right;\">\n",
       "      <th></th>\n",
       "      <th>Time</th>\n",
       "      <th>Point</th>\n",
       "      <th>raw</th>\n",
       "      <th>stardist_seg</th>\n",
       "      <th>annot_training_file</th>\n",
       "      <th>manual_seg</th>\n",
       "    </tr>\n",
       "  </thead>\n",
       "  <tbody>\n",
       "    <tr>\n",
       "      <th>0</th>\n",
       "      <td>31</td>\n",
       "      <td>43</td>\n",
       "      <td>/mnt/towbin.data/shared/smarin/data/2024_02_07...</td>\n",
       "      <td>/mnt/towbin.data/personal/bgusev/peter_work/eg...</td>\n",
       "      <td>/mnt/towbin.data/personal/bgusev/peter_work/eg...</td>\n",
       "      <td>/mnt/towbin.data/personal/bgusev/peter_work/eg...</td>\n",
       "    </tr>\n",
       "    <tr>\n",
       "      <th>1</th>\n",
       "      <td>152</td>\n",
       "      <td>27</td>\n",
       "      <td>/mnt/towbin.data/shared/smarin/data/2024_02_07...</td>\n",
       "      <td>/mnt/towbin.data/personal/bgusev/peter_work/eg...</td>\n",
       "      <td>/mnt/towbin.data/personal/bgusev/peter_work/eg...</td>\n",
       "      <td>/mnt/towbin.data/personal/bgusev/peter_work/eg...</td>\n",
       "    </tr>\n",
       "    <tr>\n",
       "      <th>2</th>\n",
       "      <td>171</td>\n",
       "      <td>29</td>\n",
       "      <td>/mnt/towbin.data/shared/smarin/data/2024_02_07...</td>\n",
       "      <td>/mnt/towbin.data/personal/bgusev/peter_work/eg...</td>\n",
       "      <td>/mnt/towbin.data/personal/bgusev/peter_work/eg...</td>\n",
       "      <td>/mnt/towbin.data/personal/bgusev/peter_work/eg...</td>\n",
       "    </tr>\n",
       "    <tr>\n",
       "      <th>3</th>\n",
       "      <td>188</td>\n",
       "      <td>18</td>\n",
       "      <td>/mnt/towbin.data/shared/smarin/data/2024_02_07...</td>\n",
       "      <td>/mnt/towbin.data/personal/bgusev/peter_work/eg...</td>\n",
       "      <td>/mnt/towbin.data/personal/bgusev/peter_work/eg...</td>\n",
       "      <td>/mnt/towbin.data/personal/bgusev/peter_work/eg...</td>\n",
       "    </tr>\n",
       "    <tr>\n",
       "      <th>4</th>\n",
       "      <td>45</td>\n",
       "      <td>28</td>\n",
       "      <td>/mnt/towbin.data/shared/smarin/data/2024_02_07...</td>\n",
       "      <td>/mnt/towbin.data/personal/bgusev/peter_work/eg...</td>\n",
       "      <td>/mnt/towbin.data/personal/bgusev/peter_work/eg...</td>\n",
       "      <td>/mnt/towbin.data/personal/bgusev/peter_work/eg...</td>\n",
       "    </tr>\n",
       "  </tbody>\n",
       "</table>\n",
       "</div>"
      ],
      "text/plain": [
       "   Time  Point                                                raw  \\\n",
       "0    31     43  /mnt/towbin.data/shared/smarin/data/2024_02_07...   \n",
       "1   152     27  /mnt/towbin.data/shared/smarin/data/2024_02_07...   \n",
       "2   171     29  /mnt/towbin.data/shared/smarin/data/2024_02_07...   \n",
       "3   188     18  /mnt/towbin.data/shared/smarin/data/2024_02_07...   \n",
       "4    45     28  /mnt/towbin.data/shared/smarin/data/2024_02_07...   \n",
       "\n",
       "                                        stardist_seg  \\\n",
       "0  /mnt/towbin.data/personal/bgusev/peter_work/eg...   \n",
       "1  /mnt/towbin.data/personal/bgusev/peter_work/eg...   \n",
       "2  /mnt/towbin.data/personal/bgusev/peter_work/eg...   \n",
       "3  /mnt/towbin.data/personal/bgusev/peter_work/eg...   \n",
       "4  /mnt/towbin.data/personal/bgusev/peter_work/eg...   \n",
       "\n",
       "                                 annot_training_file  \\\n",
       "0  /mnt/towbin.data/personal/bgusev/peter_work/eg...   \n",
       "1  /mnt/towbin.data/personal/bgusev/peter_work/eg...   \n",
       "2  /mnt/towbin.data/personal/bgusev/peter_work/eg...   \n",
       "3  /mnt/towbin.data/personal/bgusev/peter_work/eg...   \n",
       "4  /mnt/towbin.data/personal/bgusev/peter_work/eg...   \n",
       "\n",
       "                                          manual_seg  \n",
       "0  /mnt/towbin.data/personal/bgusev/peter_work/eg...  \n",
       "1  /mnt/towbin.data/personal/bgusev/peter_work/eg...  \n",
       "2  /mnt/towbin.data/personal/bgusev/peter_work/eg...  \n",
       "3  /mnt/towbin.data/personal/bgusev/peter_work/eg...  \n",
       "4  /mnt/towbin.data/personal/bgusev/peter_work/eg...  "
      ]
     },
     "execution_count": 3,
     "metadata": {},
     "output_type": "execute_result"
    }
   ],
   "source": [
    "fmap1.head()"
   ]
  },
  {
   "cell_type": "code",
   "execution_count": 4,
   "metadata": {},
   "outputs": [
    {
     "data": {
      "text/html": [
       "<div>\n",
       "<style scoped>\n",
       "    .dataframe tbody tr th:only-of-type {\n",
       "        vertical-align: middle;\n",
       "    }\n",
       "\n",
       "    .dataframe tbody tr th {\n",
       "        vertical-align: top;\n",
       "    }\n",
       "\n",
       "    .dataframe thead th {\n",
       "        text-align: right;\n",
       "    }\n",
       "</style>\n",
       "<table border=\"1\" class=\"dataframe\">\n",
       "  <thead>\n",
       "    <tr style=\"text-align: right;\">\n",
       "      <th></th>\n",
       "      <th>Time</th>\n",
       "      <th>Point</th>\n",
       "      <th>raw</th>\n",
       "      <th>training_image</th>\n",
       "      <th>manual_seg</th>\n",
       "    </tr>\n",
       "  </thead>\n",
       "  <tbody>\n",
       "    <tr>\n",
       "      <th>0</th>\n",
       "      <td>31</td>\n",
       "      <td>43</td>\n",
       "      <td>/mnt/towbin.data/shared/smarin/data/2024_02_07...</td>\n",
       "      <td>/mnt/towbin.data/personal/bgusev/peter_work/eg...</td>\n",
       "      <td>/mnt/towbin.data/personal/bgusev/peter_work/eg...</td>\n",
       "    </tr>\n",
       "    <tr>\n",
       "      <th>1</th>\n",
       "      <td>152</td>\n",
       "      <td>27</td>\n",
       "      <td>/mnt/towbin.data/shared/smarin/data/2024_02_07...</td>\n",
       "      <td>/mnt/towbin.data/personal/bgusev/peter_work/eg...</td>\n",
       "      <td>/mnt/towbin.data/personal/bgusev/peter_work/eg...</td>\n",
       "    </tr>\n",
       "    <tr>\n",
       "      <th>2</th>\n",
       "      <td>171</td>\n",
       "      <td>29</td>\n",
       "      <td>/mnt/towbin.data/shared/smarin/data/2024_02_07...</td>\n",
       "      <td>/mnt/towbin.data/personal/bgusev/peter_work/eg...</td>\n",
       "      <td>/mnt/towbin.data/personal/bgusev/peter_work/eg...</td>\n",
       "    </tr>\n",
       "    <tr>\n",
       "      <th>3</th>\n",
       "      <td>188</td>\n",
       "      <td>18</td>\n",
       "      <td>/mnt/towbin.data/shared/smarin/data/2024_02_07...</td>\n",
       "      <td>/mnt/towbin.data/personal/bgusev/peter_work/eg...</td>\n",
       "      <td>/mnt/towbin.data/personal/bgusev/peter_work/eg...</td>\n",
       "    </tr>\n",
       "    <tr>\n",
       "      <th>4</th>\n",
       "      <td>45</td>\n",
       "      <td>28</td>\n",
       "      <td>/mnt/towbin.data/shared/smarin/data/2024_02_07...</td>\n",
       "      <td>/mnt/towbin.data/personal/bgusev/peter_work/eg...</td>\n",
       "      <td>/mnt/towbin.data/personal/bgusev/peter_work/eg...</td>\n",
       "    </tr>\n",
       "  </tbody>\n",
       "</table>\n",
       "</div>"
      ],
      "text/plain": [
       "   Time  Point                                                raw  \\\n",
       "0    31     43  /mnt/towbin.data/shared/smarin/data/2024_02_07...   \n",
       "1   152     27  /mnt/towbin.data/shared/smarin/data/2024_02_07...   \n",
       "2   171     29  /mnt/towbin.data/shared/smarin/data/2024_02_07...   \n",
       "3   188     18  /mnt/towbin.data/shared/smarin/data/2024_02_07...   \n",
       "4    45     28  /mnt/towbin.data/shared/smarin/data/2024_02_07...   \n",
       "\n",
       "                                      training_image  \\\n",
       "0  /mnt/towbin.data/personal/bgusev/peter_work/eg...   \n",
       "1  /mnt/towbin.data/personal/bgusev/peter_work/eg...   \n",
       "2  /mnt/towbin.data/personal/bgusev/peter_work/eg...   \n",
       "3  /mnt/towbin.data/personal/bgusev/peter_work/eg...   \n",
       "4  /mnt/towbin.data/personal/bgusev/peter_work/eg...   \n",
       "\n",
       "                                          manual_seg  \n",
       "0  /mnt/towbin.data/personal/bgusev/peter_work/eg...  \n",
       "1  /mnt/towbin.data/personal/bgusev/peter_work/eg...  \n",
       "2  /mnt/towbin.data/personal/bgusev/peter_work/eg...  \n",
       "3  /mnt/towbin.data/personal/bgusev/peter_work/eg...  \n",
       "4  /mnt/towbin.data/personal/bgusev/peter_work/eg...  "
      ]
     },
     "execution_count": 4,
     "metadata": {},
     "output_type": "execute_result"
    }
   ],
   "source": [
    "fmap1 = fmap1.drop(columns=\"stardist_seg\")\n",
    "fmap1 = fmap1.rename(\n",
    "    columns={\n",
    "        \"annot_training_file\": \"training_image\",\n",
    "    }\n",
    ")\n",
    "\n",
    "fmap1.head()"
   ]
  },
  {
   "cell_type": "code",
   "execution_count": 5,
   "metadata": {},
   "outputs": [
    {
     "data": {
      "text/html": [
       "<div>\n",
       "<style scoped>\n",
       "    .dataframe tbody tr th:only-of-type {\n",
       "        vertical-align: middle;\n",
       "    }\n",
       "\n",
       "    .dataframe tbody tr th {\n",
       "        vertical-align: top;\n",
       "    }\n",
       "\n",
       "    .dataframe thead th {\n",
       "        text-align: right;\n",
       "    }\n",
       "</style>\n",
       "<table border=\"1\" class=\"dataframe\">\n",
       "  <thead>\n",
       "    <tr style=\"text-align: right;\">\n",
       "      <th></th>\n",
       "      <th>Time</th>\n",
       "      <th>Point</th>\n",
       "      <th>raw</th>\n",
       "      <th>training_image</th>\n",
       "      <th>_raw_local</th>\n",
       "      <th>manual_seg</th>\n",
       "    </tr>\n",
       "  </thead>\n",
       "  <tbody>\n",
       "    <tr>\n",
       "      <th>0</th>\n",
       "      <td>143</td>\n",
       "      <td>22</td>\n",
       "      <td>/mnt/towbin.data/shared/smarin/data/2024_02_07...</td>\n",
       "      <td>/mnt/towbin.data/personal/bgusev/peter_work/eg...</td>\n",
       "      <td>/mnt/towbin.data/personal/bgusev/peter_work/eg...</td>\n",
       "      <td>/mnt/towbin.data/personal/bgusev/peter_work/eg...</td>\n",
       "    </tr>\n",
       "    <tr>\n",
       "      <th>1</th>\n",
       "      <td>265</td>\n",
       "      <td>31</td>\n",
       "      <td>/mnt/towbin.data/shared/smarin/data/2024_02_07...</td>\n",
       "      <td>/mnt/towbin.data/personal/bgusev/peter_work/eg...</td>\n",
       "      <td>/mnt/towbin.data/personal/bgusev/peter_work/eg...</td>\n",
       "      <td>/mnt/towbin.data/personal/bgusev/peter_work/eg...</td>\n",
       "    </tr>\n",
       "    <tr>\n",
       "      <th>2</th>\n",
       "      <td>666</td>\n",
       "      <td>2</td>\n",
       "      <td>/mnt/towbin.data/shared/smarin/data/2024_02_07...</td>\n",
       "      <td>/mnt/towbin.data/personal/bgusev/peter_work/eg...</td>\n",
       "      <td>/mnt/towbin.data/personal/bgusev/peter_work/eg...</td>\n",
       "      <td>/mnt/towbin.data/personal/bgusev/peter_work/eg...</td>\n",
       "    </tr>\n",
       "    <tr>\n",
       "      <th>3</th>\n",
       "      <td>537</td>\n",
       "      <td>38</td>\n",
       "      <td>/mnt/towbin.data/shared/smarin/data/2024_02_07...</td>\n",
       "      <td>/mnt/towbin.data/personal/bgusev/peter_work/eg...</td>\n",
       "      <td>/mnt/towbin.data/personal/bgusev/peter_work/eg...</td>\n",
       "      <td>/mnt/towbin.data/personal/bgusev/peter_work/eg...</td>\n",
       "    </tr>\n",
       "    <tr>\n",
       "      <th>4</th>\n",
       "      <td>54</td>\n",
       "      <td>29</td>\n",
       "      <td>/mnt/towbin.data/shared/smarin/data/2024_02_07...</td>\n",
       "      <td>/mnt/towbin.data/personal/bgusev/peter_work/eg...</td>\n",
       "      <td>/mnt/towbin.data/personal/bgusev/peter_work/eg...</td>\n",
       "      <td>/mnt/towbin.data/personal/bgusev/peter_work/eg...</td>\n",
       "    </tr>\n",
       "  </tbody>\n",
       "</table>\n",
       "</div>"
      ],
      "text/plain": [
       "   Time  Point                                                raw  \\\n",
       "0   143     22  /mnt/towbin.data/shared/smarin/data/2024_02_07...   \n",
       "1   265     31  /mnt/towbin.data/shared/smarin/data/2024_02_07...   \n",
       "2   666      2  /mnt/towbin.data/shared/smarin/data/2024_02_07...   \n",
       "3   537     38  /mnt/towbin.data/shared/smarin/data/2024_02_07...   \n",
       "4    54     29  /mnt/towbin.data/shared/smarin/data/2024_02_07...   \n",
       "\n",
       "                                      training_image  \\\n",
       "0  /mnt/towbin.data/personal/bgusev/peter_work/eg...   \n",
       "1  /mnt/towbin.data/personal/bgusev/peter_work/eg...   \n",
       "2  /mnt/towbin.data/personal/bgusev/peter_work/eg...   \n",
       "3  /mnt/towbin.data/personal/bgusev/peter_work/eg...   \n",
       "4  /mnt/towbin.data/personal/bgusev/peter_work/eg...   \n",
       "\n",
       "                                          _raw_local  \\\n",
       "0  /mnt/towbin.data/personal/bgusev/peter_work/eg...   \n",
       "1  /mnt/towbin.data/personal/bgusev/peter_work/eg...   \n",
       "2  /mnt/towbin.data/personal/bgusev/peter_work/eg...   \n",
       "3  /mnt/towbin.data/personal/bgusev/peter_work/eg...   \n",
       "4  /mnt/towbin.data/personal/bgusev/peter_work/eg...   \n",
       "\n",
       "                                          manual_seg  \n",
       "0  /mnt/towbin.data/personal/bgusev/peter_work/eg...  \n",
       "1  /mnt/towbin.data/personal/bgusev/peter_work/eg...  \n",
       "2  /mnt/towbin.data/personal/bgusev/peter_work/eg...  \n",
       "3  /mnt/towbin.data/personal/bgusev/peter_work/eg...  \n",
       "4  /mnt/towbin.data/personal/bgusev/peter_work/eg...  "
      ]
     },
     "execution_count": 5,
     "metadata": {},
     "output_type": "execute_result"
    }
   ],
   "source": [
    "fmap2.head()"
   ]
  },
  {
   "cell_type": "code",
   "execution_count": 6,
   "metadata": {},
   "outputs": [
    {
     "name": "stdout",
     "output_type": "stream",
     "text": [
      "Overlap:  3\n",
      "Expected final len: 597\n"
     ]
    },
    {
     "data": {
      "text/html": [
       "<div>\n",
       "<style scoped>\n",
       "    .dataframe tbody tr th:only-of-type {\n",
       "        vertical-align: middle;\n",
       "    }\n",
       "\n",
       "    .dataframe tbody tr th {\n",
       "        vertical-align: top;\n",
       "    }\n",
       "\n",
       "    .dataframe thead th {\n",
       "        text-align: right;\n",
       "    }\n",
       "</style>\n",
       "<table border=\"1\" class=\"dataframe\">\n",
       "  <thead>\n",
       "    <tr style=\"text-align: right;\">\n",
       "      <th></th>\n",
       "      <th>Time</th>\n",
       "      <th>Point</th>\n",
       "      <th>raw</th>\n",
       "      <th>training_image</th>\n",
       "      <th>_raw_local</th>\n",
       "      <th>manual_seg</th>\n",
       "    </tr>\n",
       "  </thead>\n",
       "  <tbody>\n",
       "    <tr>\n",
       "      <th>0</th>\n",
       "      <td>143</td>\n",
       "      <td>22</td>\n",
       "      <td>/mnt/towbin.data/shared/smarin/data/2024_02_07...</td>\n",
       "      <td>/mnt/towbin.data/personal/bgusev/peter_work/eg...</td>\n",
       "      <td>/mnt/towbin.data/personal/bgusev/peter_work/eg...</td>\n",
       "      <td>/mnt/towbin.data/personal/bgusev/peter_work/eg...</td>\n",
       "    </tr>\n",
       "    <tr>\n",
       "      <th>1</th>\n",
       "      <td>265</td>\n",
       "      <td>31</td>\n",
       "      <td>/mnt/towbin.data/shared/smarin/data/2024_02_07...</td>\n",
       "      <td>/mnt/towbin.data/personal/bgusev/peter_work/eg...</td>\n",
       "      <td>/mnt/towbin.data/personal/bgusev/peter_work/eg...</td>\n",
       "      <td>/mnt/towbin.data/personal/bgusev/peter_work/eg...</td>\n",
       "    </tr>\n",
       "    <tr>\n",
       "      <th>2</th>\n",
       "      <td>666</td>\n",
       "      <td>2</td>\n",
       "      <td>/mnt/towbin.data/shared/smarin/data/2024_02_07...</td>\n",
       "      <td>/mnt/towbin.data/personal/bgusev/peter_work/eg...</td>\n",
       "      <td>/mnt/towbin.data/personal/bgusev/peter_work/eg...</td>\n",
       "      <td>/mnt/towbin.data/personal/bgusev/peter_work/eg...</td>\n",
       "    </tr>\n",
       "    <tr>\n",
       "      <th>3</th>\n",
       "      <td>537</td>\n",
       "      <td>38</td>\n",
       "      <td>/mnt/towbin.data/shared/smarin/data/2024_02_07...</td>\n",
       "      <td>/mnt/towbin.data/personal/bgusev/peter_work/eg...</td>\n",
       "      <td>/mnt/towbin.data/personal/bgusev/peter_work/eg...</td>\n",
       "      <td>/mnt/towbin.data/personal/bgusev/peter_work/eg...</td>\n",
       "    </tr>\n",
       "    <tr>\n",
       "      <th>4</th>\n",
       "      <td>54</td>\n",
       "      <td>29</td>\n",
       "      <td>/mnt/towbin.data/shared/smarin/data/2024_02_07...</td>\n",
       "      <td>/mnt/towbin.data/personal/bgusev/peter_work/eg...</td>\n",
       "      <td>/mnt/towbin.data/personal/bgusev/peter_work/eg...</td>\n",
       "      <td>/mnt/towbin.data/personal/bgusev/peter_work/eg...</td>\n",
       "    </tr>\n",
       "  </tbody>\n",
       "</table>\n",
       "</div>"
      ],
      "text/plain": [
       "   Time  Point                                                raw  \\\n",
       "0   143     22  /mnt/towbin.data/shared/smarin/data/2024_02_07...   \n",
       "1   265     31  /mnt/towbin.data/shared/smarin/data/2024_02_07...   \n",
       "2   666      2  /mnt/towbin.data/shared/smarin/data/2024_02_07...   \n",
       "3   537     38  /mnt/towbin.data/shared/smarin/data/2024_02_07...   \n",
       "4    54     29  /mnt/towbin.data/shared/smarin/data/2024_02_07...   \n",
       "\n",
       "                                      training_image  \\\n",
       "0  /mnt/towbin.data/personal/bgusev/peter_work/eg...   \n",
       "1  /mnt/towbin.data/personal/bgusev/peter_work/eg...   \n",
       "2  /mnt/towbin.data/personal/bgusev/peter_work/eg...   \n",
       "3  /mnt/towbin.data/personal/bgusev/peter_work/eg...   \n",
       "4  /mnt/towbin.data/personal/bgusev/peter_work/eg...   \n",
       "\n",
       "                                          _raw_local  \\\n",
       "0  /mnt/towbin.data/personal/bgusev/peter_work/eg...   \n",
       "1  /mnt/towbin.data/personal/bgusev/peter_work/eg...   \n",
       "2  /mnt/towbin.data/personal/bgusev/peter_work/eg...   \n",
       "3  /mnt/towbin.data/personal/bgusev/peter_work/eg...   \n",
       "4  /mnt/towbin.data/personal/bgusev/peter_work/eg...   \n",
       "\n",
       "                                          manual_seg  \n",
       "0  /mnt/towbin.data/personal/bgusev/peter_work/eg...  \n",
       "1  /mnt/towbin.data/personal/bgusev/peter_work/eg...  \n",
       "2  /mnt/towbin.data/personal/bgusev/peter_work/eg...  \n",
       "3  /mnt/towbin.data/personal/bgusev/peter_work/eg...  \n",
       "4  /mnt/towbin.data/personal/bgusev/peter_work/eg...  "
      ]
     },
     "execution_count": 6,
     "metadata": {},
     "output_type": "execute_result"
    }
   ],
   "source": [
    "overlap = fmap1.merge(fmap2, on=[\"Time\", \"Point\"], how=\"inner\")[[\"Time\", \"Point\"]]\n",
    "print(\"Overlap: \", len(overlap))\n",
    "print(f\"Expected final len: {len(fmap1) + len(fmap2) - len(overlap)}\")\n",
    "\n",
    "\n",
    "fmap2_no_overlap = fmap2[\n",
    "    ~(fmap2[\"Time\"].isin(overlap[\"Time\"]) & fmap2[\"Point\"].isin(overlap[\"Point\"]))\n",
    "]\n",
    "fmap2_no_overlap.head()"
   ]
  },
  {
   "cell_type": "code",
   "execution_count": 7,
   "metadata": {},
   "outputs": [
    {
     "name": "stdout",
     "output_type": "stream",
     "text": [
      "597\n"
     ]
    },
    {
     "data": {
      "text/html": [
       "<div>\n",
       "<style scoped>\n",
       "    .dataframe tbody tr th:only-of-type {\n",
       "        vertical-align: middle;\n",
       "    }\n",
       "\n",
       "    .dataframe tbody tr th {\n",
       "        vertical-align: top;\n",
       "    }\n",
       "\n",
       "    .dataframe thead th {\n",
       "        text-align: right;\n",
       "    }\n",
       "</style>\n",
       "<table border=\"1\" class=\"dataframe\">\n",
       "  <thead>\n",
       "    <tr style=\"text-align: right;\">\n",
       "      <th></th>\n",
       "      <th>Time</th>\n",
       "      <th>Point</th>\n",
       "      <th>raw</th>\n",
       "      <th>training_image</th>\n",
       "      <th>manual_seg</th>\n",
       "    </tr>\n",
       "  </thead>\n",
       "  <tbody>\n",
       "    <tr>\n",
       "      <th>0</th>\n",
       "      <td>31</td>\n",
       "      <td>43</td>\n",
       "      <td>/mnt/towbin.data/shared/smarin/data/2024_02_07...</td>\n",
       "      <td>/mnt/towbin.data/personal/bgusev/peter_work/eg...</td>\n",
       "      <td>/mnt/towbin.data/personal/bgusev/peter_work/eg...</td>\n",
       "    </tr>\n",
       "    <tr>\n",
       "      <th>1</th>\n",
       "      <td>152</td>\n",
       "      <td>27</td>\n",
       "      <td>/mnt/towbin.data/shared/smarin/data/2024_02_07...</td>\n",
       "      <td>/mnt/towbin.data/personal/bgusev/peter_work/eg...</td>\n",
       "      <td>/mnt/towbin.data/personal/bgusev/peter_work/eg...</td>\n",
       "    </tr>\n",
       "    <tr>\n",
       "      <th>2</th>\n",
       "      <td>171</td>\n",
       "      <td>29</td>\n",
       "      <td>/mnt/towbin.data/shared/smarin/data/2024_02_07...</td>\n",
       "      <td>/mnt/towbin.data/personal/bgusev/peter_work/eg...</td>\n",
       "      <td>/mnt/towbin.data/personal/bgusev/peter_work/eg...</td>\n",
       "    </tr>\n",
       "    <tr>\n",
       "      <th>3</th>\n",
       "      <td>188</td>\n",
       "      <td>18</td>\n",
       "      <td>/mnt/towbin.data/shared/smarin/data/2024_02_07...</td>\n",
       "      <td>/mnt/towbin.data/personal/bgusev/peter_work/eg...</td>\n",
       "      <td>/mnt/towbin.data/personal/bgusev/peter_work/eg...</td>\n",
       "    </tr>\n",
       "    <tr>\n",
       "      <th>4</th>\n",
       "      <td>45</td>\n",
       "      <td>28</td>\n",
       "      <td>/mnt/towbin.data/shared/smarin/data/2024_02_07...</td>\n",
       "      <td>/mnt/towbin.data/personal/bgusev/peter_work/eg...</td>\n",
       "      <td>/mnt/towbin.data/personal/bgusev/peter_work/eg...</td>\n",
       "    </tr>\n",
       "  </tbody>\n",
       "</table>\n",
       "</div>"
      ],
      "text/plain": [
       "   Time  Point                                                raw  \\\n",
       "0    31     43  /mnt/towbin.data/shared/smarin/data/2024_02_07...   \n",
       "1   152     27  /mnt/towbin.data/shared/smarin/data/2024_02_07...   \n",
       "2   171     29  /mnt/towbin.data/shared/smarin/data/2024_02_07...   \n",
       "3   188     18  /mnt/towbin.data/shared/smarin/data/2024_02_07...   \n",
       "4    45     28  /mnt/towbin.data/shared/smarin/data/2024_02_07...   \n",
       "\n",
       "                                      training_image  \\\n",
       "0  /mnt/towbin.data/personal/bgusev/peter_work/eg...   \n",
       "1  /mnt/towbin.data/personal/bgusev/peter_work/eg...   \n",
       "2  /mnt/towbin.data/personal/bgusev/peter_work/eg...   \n",
       "3  /mnt/towbin.data/personal/bgusev/peter_work/eg...   \n",
       "4  /mnt/towbin.data/personal/bgusev/peter_work/eg...   \n",
       "\n",
       "                                          manual_seg  \n",
       "0  /mnt/towbin.data/personal/bgusev/peter_work/eg...  \n",
       "1  /mnt/towbin.data/personal/bgusev/peter_work/eg...  \n",
       "2  /mnt/towbin.data/personal/bgusev/peter_work/eg...  \n",
       "3  /mnt/towbin.data/personal/bgusev/peter_work/eg...  \n",
       "4  /mnt/towbin.data/personal/bgusev/peter_work/eg...  "
      ]
     },
     "execution_count": 7,
     "metadata": {},
     "output_type": "execute_result"
    }
   ],
   "source": [
    "combined_fmap = pd.concat([fmap1, fmap2_no_overlap], ignore_index=True)\n",
    "combined_fmap = combined_fmap.drop(columns=\"_raw_local\")\n",
    "print(len(combined_fmap))\n",
    "combined_fmap.head()"
   ]
  },
  {
   "cell_type": "code",
   "execution_count": 8,
   "metadata": {},
   "outputs": [
    {
     "data": {
      "text/plain": [
       "'/mnt/towbin.data/personal/bgusev/peter_work/egg_count/annot_training/manual_seg/Time00031_Point0043_470nm,565nm,BF_Seq38278.ome.tif'"
      ]
     },
     "execution_count": 8,
     "metadata": {},
     "output_type": "execute_result"
    }
   ],
   "source": [
    "combined_fmap.iloc[0][\"manual_seg\"]"
   ]
  },
  {
   "cell_type": "code",
   "execution_count": 9,
   "metadata": {},
   "outputs": [],
   "source": [
    "# I have already merged the directories, now just need to update the filemaps to point towards the new image locations"
   ]
  },
  {
   "cell_type": "code",
   "execution_count": 10,
   "metadata": {},
   "outputs": [],
   "source": [
    "# Fix it, it's false because the paths still point to the old location"
   ]
  },
  {
   "cell_type": "code",
   "execution_count": 11,
   "metadata": {},
   "outputs": [
    {
     "name": "stdout",
     "output_type": "stream",
     "text": [
      "597\n",
      "597\n",
      "597\n"
     ]
    }
   ],
   "source": [
    "training_files = [\n",
    "    str(f.resolve())\n",
    "    for f in Path(\n",
    "        \"/home/bgusev/new_towbin/shared/bgusev/stardist_egg_seg/xgboost_training/training_data/training_images\"\n",
    "    ).glob(\"*.ome.tiff\")\n",
    "]\n",
    "print(len(training_files))\n",
    "training_files = pd.DataFrame(training_files, columns=[\"training_image\"])\n",
    "training_files = pd.concat(\n",
    "    [\n",
    "        training_files,\n",
    "        training_files[\"training_image\"]\n",
    "        .str.extract(r\"Time(?P<Time>\\d+)_Point(?P<Point>\\d+)\", expand=True)\n",
    "        .astype(int),\n",
    "    ],\n",
    "    axis=1,\n",
    ")\n",
    "assert not training_files.isna().any().any()\n",
    "\n",
    "manual_seg_files = [\n",
    "    str(f.resolve())\n",
    "    for f in Path(\n",
    "        \"/home/bgusev/new_towbin/shared/bgusev/stardist_egg_seg/xgboost_training/training_data/manual_seg\"\n",
    "    ).glob(\"*ome.tif\")\n",
    "]\n",
    "print(len(manual_seg_files))\n",
    "manual_seg_files = pd.DataFrame(manual_seg_files, columns=[\"manual_seg\"])\n",
    "manual_seg_files = pd.concat(\n",
    "    [\n",
    "        manual_seg_files,\n",
    "        manual_seg_files[\"manual_seg\"]\n",
    "        .str.extract(r\"Time(?P<Time>\\d+)_Point(?P<Point>\\d+)\", expand=True)\n",
    "        .astype(int),\n",
    "    ],\n",
    "    axis=1,\n",
    ")\n",
    "assert not manual_seg_files.isna().any().any()\n",
    "\n",
    "local_raw_files = [\n",
    "    str(f.resolve())\n",
    "    for f in Path(\n",
    "        \"/home/bgusev/new_towbin/shared/bgusev/stardist_egg_seg/xgboost_training/training_data/_raw\"\n",
    "    ).glob(\"*.tiff\")\n",
    "]\n",
    "print(len(local_raw_files))\n",
    "local_raw_files = pd.DataFrame(local_raw_files, columns=[\"_raw_local\"])\n",
    "local_raw_files = pd.concat(\n",
    "    [\n",
    "        local_raw_files,\n",
    "        local_raw_files[\"_raw_local\"]\n",
    "        .str.extract(r\"Time(?P<Time>\\d+)_Point(?P<Point>\\d+)\", expand=True)\n",
    "        .astype(int),\n",
    "    ],\n",
    "    axis=1,\n",
    ")\n",
    "assert not local_raw_files.isna().any().any()"
   ]
  },
  {
   "cell_type": "code",
   "execution_count": 12,
   "metadata": {},
   "outputs": [
    {
     "data": {
      "text/html": [
       "<div>\n",
       "<style scoped>\n",
       "    .dataframe tbody tr th:only-of-type {\n",
       "        vertical-align: middle;\n",
       "    }\n",
       "\n",
       "    .dataframe tbody tr th {\n",
       "        vertical-align: top;\n",
       "    }\n",
       "\n",
       "    .dataframe thead th {\n",
       "        text-align: right;\n",
       "    }\n",
       "</style>\n",
       "<table border=\"1\" class=\"dataframe\">\n",
       "  <thead>\n",
       "    <tr style=\"text-align: right;\">\n",
       "      <th></th>\n",
       "      <th>Time</th>\n",
       "      <th>Point</th>\n",
       "      <th>raw</th>\n",
       "      <th>training_image</th>\n",
       "      <th>manual_seg</th>\n",
       "      <th>_raw_local</th>\n",
       "    </tr>\n",
       "  </thead>\n",
       "  <tbody>\n",
       "    <tr>\n",
       "      <th>0</th>\n",
       "      <td>1</td>\n",
       "      <td>15</td>\n",
       "      <td>/mnt/towbin.data/shared/smarin/data/2024_02_07...</td>\n",
       "      <td>/mnt/towbin.data/shared/bgusev/stardist_egg_se...</td>\n",
       "      <td>/mnt/towbin.data/shared/bgusev/stardist_egg_se...</td>\n",
       "      <td>/mnt/towbin.data/shared/bgusev/stardist_egg_se...</td>\n",
       "    </tr>\n",
       "    <tr>\n",
       "      <th>1</th>\n",
       "      <td>1</td>\n",
       "      <td>31</td>\n",
       "      <td>/mnt/towbin.data/shared/smarin/data/2024_02_07...</td>\n",
       "      <td>/mnt/towbin.data/shared/bgusev/stardist_egg_se...</td>\n",
       "      <td>/mnt/towbin.data/shared/bgusev/stardist_egg_se...</td>\n",
       "      <td>/mnt/towbin.data/shared/bgusev/stardist_egg_se...</td>\n",
       "    </tr>\n",
       "    <tr>\n",
       "      <th>2</th>\n",
       "      <td>2</td>\n",
       "      <td>7</td>\n",
       "      <td>/mnt/towbin.data/shared/smarin/data/2024_02_07...</td>\n",
       "      <td>/mnt/towbin.data/shared/bgusev/stardist_egg_se...</td>\n",
       "      <td>/mnt/towbin.data/shared/bgusev/stardist_egg_se...</td>\n",
       "      <td>/mnt/towbin.data/shared/bgusev/stardist_egg_se...</td>\n",
       "    </tr>\n",
       "    <tr>\n",
       "      <th>3</th>\n",
       "      <td>2</td>\n",
       "      <td>42</td>\n",
       "      <td>/mnt/towbin.data/shared/smarin/data/2024_02_07...</td>\n",
       "      <td>/mnt/towbin.data/shared/bgusev/stardist_egg_se...</td>\n",
       "      <td>/mnt/towbin.data/shared/bgusev/stardist_egg_se...</td>\n",
       "      <td>/mnt/towbin.data/shared/bgusev/stardist_egg_se...</td>\n",
       "    </tr>\n",
       "    <tr>\n",
       "      <th>4</th>\n",
       "      <td>3</td>\n",
       "      <td>37</td>\n",
       "      <td>/mnt/towbin.data/shared/smarin/data/2024_02_07...</td>\n",
       "      <td>/mnt/towbin.data/shared/bgusev/stardist_egg_se...</td>\n",
       "      <td>/mnt/towbin.data/shared/bgusev/stardist_egg_se...</td>\n",
       "      <td>/mnt/towbin.data/shared/bgusev/stardist_egg_se...</td>\n",
       "    </tr>\n",
       "  </tbody>\n",
       "</table>\n",
       "</div>"
      ],
      "text/plain": [
       "   Time  Point                                                raw  \\\n",
       "0     1     15  /mnt/towbin.data/shared/smarin/data/2024_02_07...   \n",
       "1     1     31  /mnt/towbin.data/shared/smarin/data/2024_02_07...   \n",
       "2     2      7  /mnt/towbin.data/shared/smarin/data/2024_02_07...   \n",
       "3     2     42  /mnt/towbin.data/shared/smarin/data/2024_02_07...   \n",
       "4     3     37  /mnt/towbin.data/shared/smarin/data/2024_02_07...   \n",
       "\n",
       "                                      training_image  \\\n",
       "0  /mnt/towbin.data/shared/bgusev/stardist_egg_se...   \n",
       "1  /mnt/towbin.data/shared/bgusev/stardist_egg_se...   \n",
       "2  /mnt/towbin.data/shared/bgusev/stardist_egg_se...   \n",
       "3  /mnt/towbin.data/shared/bgusev/stardist_egg_se...   \n",
       "4  /mnt/towbin.data/shared/bgusev/stardist_egg_se...   \n",
       "\n",
       "                                          manual_seg  \\\n",
       "0  /mnt/towbin.data/shared/bgusev/stardist_egg_se...   \n",
       "1  /mnt/towbin.data/shared/bgusev/stardist_egg_se...   \n",
       "2  /mnt/towbin.data/shared/bgusev/stardist_egg_se...   \n",
       "3  /mnt/towbin.data/shared/bgusev/stardist_egg_se...   \n",
       "4  /mnt/towbin.data/shared/bgusev/stardist_egg_se...   \n",
       "\n",
       "                                          _raw_local  \n",
       "0  /mnt/towbin.data/shared/bgusev/stardist_egg_se...  \n",
       "1  /mnt/towbin.data/shared/bgusev/stardist_egg_se...  \n",
       "2  /mnt/towbin.data/shared/bgusev/stardist_egg_se...  \n",
       "3  /mnt/towbin.data/shared/bgusev/stardist_egg_se...  \n",
       "4  /mnt/towbin.data/shared/bgusev/stardist_egg_se...  "
      ]
     },
     "execution_count": 12,
     "metadata": {},
     "output_type": "execute_result"
    }
   ],
   "source": [
    "from functools import reduce\n",
    "\n",
    "dfs_to_merge = [\n",
    "    combined_fmap[[\"Time\", \"Point\", \"raw\"]],\n",
    "    training_files,\n",
    "    manual_seg_files,\n",
    "    local_raw_files,\n",
    "]\n",
    "\n",
    "full_merge = reduce(\n",
    "    lambda left, right: pd.merge(left, right, on=[\"Time\", \"Point\"], how=\"outer\"),\n",
    "    dfs_to_merge,\n",
    ")\n",
    "full_merge.head()"
   ]
  },
  {
   "cell_type": "code",
   "execution_count": 13,
   "metadata": {},
   "outputs": [
    {
     "data": {
      "text/plain": [
       "(Time              False\n",
       " Point             False\n",
       " raw               False\n",
       " training_image    False\n",
       " manual_seg        False\n",
       " _raw_local        False\n",
       " dtype: bool,\n",
       " 597)"
      ]
     },
     "execution_count": 13,
     "metadata": {},
     "output_type": "execute_result"
    }
   ],
   "source": [
    "full_merge.isna().any(), len(full_merge)"
   ]
  },
  {
   "cell_type": "code",
   "execution_count": 14,
   "metadata": {},
   "outputs": [
    {
     "data": {
      "text/plain": [
       "('/mnt/towbin.data/shared/smarin/data/2024_02_07_lifespan_wBT318_20C/raw/Time00959_Point0020_470nm,565nm,BF_Seq34720.ome.tiff',\n",
       " '/mnt/towbin.data/shared/bgusev/stardist_egg_seg/xgboost_training/training_data/training_images/Time00959_Point0020_470nm,565nm,BF_Seq34720.ome.tiff',\n",
       " '/mnt/towbin.data/shared/bgusev/stardist_egg_seg/xgboost_training/training_data/manual_seg/Time00959_Point0020_470nm,565nm,BF_Seq34720.ome.tif',\n",
       " '/mnt/towbin.data/shared/bgusev/stardist_egg_seg/xgboost_training/training_data/_raw/Time00959_Point0020_470nm,565nm,BF_Seq34720.ome.tiff',\n",
       " 959,\n",
       " 20)"
      ]
     },
     "execution_count": 14,
     "metadata": {},
     "output_type": "execute_result"
    }
   ],
   "source": [
    "(\n",
    "    full_merge.iloc[-1][\"raw\"],\n",
    "    full_merge.iloc[-1][\"training_image\"],\n",
    "    full_merge.iloc[-1][\"manual_seg\"],\n",
    "    full_merge.iloc[-1][\"_raw_local\"],\n",
    "    full_merge.iloc[-1][\"Time\"],\n",
    "    full_merge.iloc[-1][\"Point\"],\n",
    ")"
   ]
  },
  {
   "cell_type": "code",
   "execution_count": 15,
   "metadata": {},
   "outputs": [],
   "source": [
    "full_merge.to_csv(\"training_data/filemap.csv\", index=False)"
   ]
  },
  {
   "cell_type": "code",
   "execution_count": 16,
   "metadata": {},
   "outputs": [
    {
     "data": {
      "text/plain": [
       "PosixPath('/mnt/towbin.data/shared/bgusev/stardist_egg_seg/xgboost_training')"
      ]
     },
     "execution_count": 16,
     "metadata": {},
     "output_type": "execute_result"
    }
   ],
   "source": [
    "Path().cwd()"
   ]
  },
  {
   "cell_type": "code",
   "execution_count": null,
   "metadata": {},
   "outputs": [],
   "source": []
  }
 ],
 "metadata": {
  "kernelspec": {
   "display_name": "Python 3",
   "language": "python",
   "name": "python3"
  },
  "language_info": {
   "codemirror_mode": {
    "name": "ipython",
    "version": 3
   },
   "file_extension": ".py",
   "mimetype": "text/x-python",
   "name": "python",
   "nbconvert_exporter": "python",
   "pygments_lexer": "ipython3",
   "version": "3.11.9"
  }
 },
 "nbformat": 4,
 "nbformat_minor": 2
}
